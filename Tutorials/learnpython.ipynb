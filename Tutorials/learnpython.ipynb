{
 "cells": [
  {
   "cell_type": "markdown",
   "metadata": {
    "collapsed": false
   },
   "source": [
    "# Jupyter Task 3\n",
    "\n",
    "##### Sidy Danioko\n",
    "##### Sean Paradiso\n",
    " "
   ]
  },
  {
   "cell_type": "markdown",
   "metadata": {},
   "source": [
    "### Python Syntax"
   ]
  },
  {
   "cell_type": "markdown",
   "metadata": {},
   "source": [
    " #### - Comments in python are anything preceeded by a '#'"
   ]
  },
  {
   "cell_type": "code",
   "execution_count": null,
   "metadata": {
    "collapsed": true
   },
   "outputs": [],
   "source": [
    "# This is a comment "
   ]
  },
  {
   "cell_type": "markdown",
   "metadata": {},
   "source": [
    "#### - Declaring a variable does not require a type"
   ]
  },
  {
   "cell_type": "code",
   "execution_count": 7,
   "metadata": {
    "collapsed": true
   },
   "outputs": [],
   "source": [
    "a = 5 \n",
    "myName = \"Sean\""
   ]
  },
  {
   "cell_type": "markdown",
   "metadata": {},
   "source": [
    "#### - The syntax for printing output is print(\"string1\" + \"string2\")"
   ]
  },
  {
   "cell_type": "code",
   "execution_count": 8,
   "metadata": {
    "collapsed": false
   },
   "outputs": [
    {
     "name": "stdout",
     "output_type": "stream",
     "text": [
      "5\n",
      "Sean\n"
     ]
    }
   ],
   "source": [
    "a = 5\n",
    "print a\n",
    "print myName"
   ]
  },
  {
   "cell_type": "markdown",
   "metadata": {},
   "source": [
    "### Python Data Types"
   ]
  },
  {
   "cell_type": "markdown",
   "metadata": {},
   "source": [
    "#### - The boolean data type is a binary taking True and/or False"
   ]
  },
  {
   "cell_type": "code",
   "execution_count": 16,
   "metadata": {
    "collapsed": false
   },
   "outputs": [
    {
     "name": "stdout",
     "output_type": "stream",
     "text": [
      "They are different\n"
     ]
    }
   ],
   "source": [
    "a = 2\n",
    "b = 2\n",
    "\n",
    "if False:\n",
    "    print \"They are the same\"\n",
    "    \n",
    "else:\n",
    "    print \"They are different\"\n",
    "\n"
   ]
  },
  {
   "cell_type": "markdown",
   "metadata": {},
   "source": [
    "#### - The integer data type is a primitive data type used for integers"
   ]
  },
  {
   "cell_type": "code",
   "execution_count": 18,
   "metadata": {
    "collapsed": false
   },
   "outputs": [
    {
     "data": {
      "text/plain": [
       "int"
      ]
     },
     "execution_count": 18,
     "metadata": {},
     "output_type": "execute_result"
    }
   ],
   "source": [
    "a = 3\n",
    "type(a)"
   ]
  },
  {
   "cell_type": "markdown",
   "metadata": {},
   "source": [
    "#### - The float data type is a primitive data type used for real numbers"
   ]
  },
  {
   "cell_type": "code",
   "execution_count": 21,
   "metadata": {
    "collapsed": false
   },
   "outputs": [
    {
     "name": "stdout",
     "output_type": "stream",
     "text": [
      "2.42307692308\n"
     ]
    },
    {
     "data": {
      "text/plain": [
       "float"
      ]
     },
     "execution_count": 21,
     "metadata": {},
     "output_type": "execute_result"
    }
   ],
   "source": [
    "a = 6.3\n",
    "b = 2.6\n",
    "\n",
    "c = a / b\n",
    "\n",
    "print(c)\n",
    "\n",
    "type(c)"
   ]
  },
  {
   "cell_type": "markdown",
   "metadata": {},
   "source": [
    "#### - The string data type is a primitive data type used for an array of characters"
   ]
  },
  {
   "cell_type": "code",
   "execution_count": 22,
   "metadata": {
    "collapsed": false
   },
   "outputs": [
    {
     "name": "stdout",
     "output_type": "stream",
     "text": [
      "Sean Paradiso\n"
     ]
    },
    {
     "data": {
      "text/plain": [
       "str"
      ]
     },
     "execution_count": 22,
     "metadata": {},
     "output_type": "execute_result"
    }
   ],
   "source": [
    "myName = \"Sean Paradiso\"\n",
    "\n",
    "print(myName)\n",
    "\n",
    "type(myName)"
   ]
  },
  {
   "cell_type": "markdown",
   "metadata": {},
   "source": [
    "#### - The list data type is a primitive data type used for a collection of items of the same or different types in a specific order"
   ]
  },
  {
   "cell_type": "code",
   "execution_count": 40,
   "metadata": {
    "collapsed": false
   },
   "outputs": [
    {
     "name": "stdout",
     "output_type": "stream",
     "text": [
      "[0, 1, 2, 3, 4, 5, 6, 7, 8, 9]\n",
      "0\n",
      "1\n",
      "100\n",
      "[0, 1, 100, 3, 4, 5, 6, 7, 8, 9]\n"
     ]
    },
    {
     "data": {
      "text/plain": [
       "list"
      ]
     },
     "execution_count": 40,
     "metadata": {},
     "output_type": "execute_result"
    }
   ],
   "source": [
    "u = range(0,10)\n",
    "\n",
    "print(u)\n",
    "\n",
    "type(u)\n",
    "print u[0]\n",
    "print u[1]\n",
    "u[2]= 100\n",
    "print u[2]\n",
    "print u\n",
    "\n",
    "type(u)"
   ]
  },
  {
   "cell_type": "markdown",
   "metadata": {},
   "source": [
    "#### - The tuple data type is an immutable ordered list"
   ]
  },
  {
   "cell_type": "code",
   "execution_count": 32,
   "metadata": {
    "collapsed": false
   },
   "outputs": [
    {
     "ename": "SyntaxError",
     "evalue": "can't assign to function call (<ipython-input-32-6ef0b3d75e39>, line 6)",
     "output_type": "error",
     "traceback": [
      "\u001b[1;36m  File \u001b[1;32m\"<ipython-input-32-6ef0b3d75e39>\"\u001b[1;36m, line \u001b[1;32m6\u001b[0m\n\u001b[1;33m    myTup(0) = 30\u001b[0m\n\u001b[1;31mSyntaxError\u001b[0m\u001b[1;31m:\u001b[0m can't assign to function call\n"
     ]
    }
   ],
   "source": [
    "myTup = (1,2,3,4,5,6,7,8)\n",
    "\n",
    "print myTup\n",
    "type(myTup)\n",
    "\n",
    "myTup(0) = 30 #We cannot change values within the tuple"
   ]
  },
  {
   "cell_type": "markdown",
   "metadata": {},
   "source": [
    "#### - The dictionary data type is a key-value system"
   ]
  },
  {
   "cell_type": "code",
   "execution_count": 39,
   "metadata": {
    "collapsed": false
   },
   "outputs": [
    {
     "name": "stdout",
     "output_type": "stream",
     "text": [
      "{'Dad': 90, 'Brother': 50, 'Mom': 100}\n",
      "Dad\n",
      "Brother\n",
      "Mom\n",
      "90\n",
      "50\n",
      "100\n"
     ]
    },
    {
     "data": {
      "text/plain": [
       "dict"
      ]
     },
     "execution_count": 39,
     "metadata": {},
     "output_type": "execute_result"
    }
   ],
   "source": [
    "FamilyAge = {\"Mom\": 100, \"Dad\": 90, \"Brother\": 50}\n",
    "\n",
    "print(FamilyAge)\n",
    "\n",
    "for item in FamilyAge:\n",
    "    print item\n",
    "    \n",
    "for value in FamilyAge:\n",
    "    print FamilyAge[value]\n",
    "    \n",
    "type(FamilyAge)"
   ]
  },
  {
   "cell_type": "markdown",
   "metadata": {},
   "source": [
    "#### - The set data type is similar to a list with the exception of not allowing duplicates"
   ]
  },
  {
   "cell_type": "code",
   "execution_count": 46,
   "metadata": {
    "collapsed": false
   },
   "outputs": [
    {
     "name": "stdout",
     "output_type": "stream",
     "text": [
      "set([1, 2, 3, 4, 5])\n",
      "set([1, 2, 3, 4, 5, 8, 'You the man'])\n"
     ]
    },
    {
     "data": {
      "text/plain": [
       "set"
      ]
     },
     "execution_count": 46,
     "metadata": {},
     "output_type": "execute_result"
    }
   ],
   "source": [
    "mySet = set([1, 2, 3, 3, 3, 4, 5])\n",
    "\n",
    "print(mySet)\n",
    "type(mySet)\n",
    "\n",
    "#Let's add some items to mySet\n",
    "\n",
    "mySet.add(8)\n",
    "mySet.add(\"You the man\")\n",
    "\n",
    "print(mySet)\n",
    "\n",
    "type(mySet)"
   ]
  },
  {
   "cell_type": "markdown",
   "metadata": {},
   "source": [
    "### Python Control Structures"
   ]
  },
  {
   "cell_type": "markdown",
   "metadata": {},
   "source": [
    "#### - The syntax for an if-then-else control structure is used by initiating with the key word \"if\" followed by a test"
   ]
  },
  {
   "cell_type": "code",
   "execution_count": 53,
   "metadata": {
    "collapsed": false
   },
   "outputs": [
    {
     "name": "stdout",
     "output_type": "stream",
     "text": [
      "Please enter an integer: 5\n",
      " a is an odd number\n",
      "Please enter your first name :sdivhjsldivilsdj\n",
      " Your name is too long\n"
     ]
    }
   ],
   "source": [
    "a = input(\"Please enter an integer: \")\n",
    "if(a%2==0):\n",
    "    print \" a is an even number\"\n",
    "else:\n",
    "    print \" a is an odd number\"\n",
    "\n",
    "first = raw_input(\"Please enter your first name :\")\n",
    "\n",
    "if(len(first) > 4):\n",
    "    print \" Your name is too long\"\n",
    "else:\n",
    "    print \" Your name is short\""
   ]
  },
  {
   "cell_type": "markdown",
   "metadata": {},
   "source": [
    "#### - The syntax for a for loop control structure is used by initiating with the key word \"for\" which will iterrate through a list. (This means the final value within the given range is the stopping condition and will not be evaluated)"
   ]
  },
  {
   "cell_type": "code",
   "execution_count": 55,
   "metadata": {
    "collapsed": false
   },
   "outputs": [
    {
     "name": "stdout",
     "output_type": "stream",
     "text": [
      "1\n",
      "4\n",
      "9\n",
      "16\n",
      "25\n",
      "36\n",
      "49\n",
      "64\n",
      "81\n"
     ]
    }
   ],
   "source": [
    "#This for loop prints the squares of the values within the specified range\n",
    "\n",
    "for i in range(1,10):\n",
    "    print i**2"
   ]
  },
  {
   "cell_type": "markdown",
   "metadata": {},
   "source": [
    "#### - The syntax for a for while control structure is used by initiating with the key word \"while\" which will iterrate through a list until a condition is no longer met. (This means the final value within the given range is the stopping condition and will not be evaluated)"
   ]
  },
  {
   "cell_type": "code",
   "execution_count": 63,
   "metadata": {
    "collapsed": false
   },
   "outputs": [
    {
     "name": "stdout",
     "output_type": "stream",
     "text": [
      "Please a give me a name or type x to exit: 5\n",
      "Keep going\n",
      "Please a give me a name or type x to exit: x\n"
     ]
    }
   ],
   "source": [
    "while True:\n",
    "    name = raw_input(\"Please a give me a name or type x to exit: \")\n",
    "    if name == \"x\":break\n",
    "    else:\n",
    "        print \"Keep going\""
   ]
  },
  {
   "cell_type": "markdown",
   "metadata": {},
   "source": [
    "### Python Organizational Structures"
   ]
  },
  {
   "cell_type": "markdown",
   "metadata": {},
   "source": [
    "#### - The syntax for defining a function with a name as an organizational structure creates a new function through the use of the key word \"def\" and returns a value with a return statement"
   ]
  },
  {
   "cell_type": "code",
   "execution_count": 8,
   "metadata": {
    "collapsed": false
   },
   "outputs": [
    {
     "name": "stdout",
     "output_type": "stream",
     "text": [
      "x is 12 and y is 4\n"
     ]
    },
    {
     "data": {
      "text/plain": [
       "8"
      ]
     },
     "execution_count": 8,
     "metadata": {},
     "output_type": "execute_result"
    }
   ],
   "source": [
    "def sub(x, y):\n",
    "    print \"x is {0} and y is {1}\".format(x, y)\n",
    "    return x - y\n",
    "\n",
    "sub(12, 4)"
   ]
  },
  {
   "cell_type": "markdown",
   "metadata": {},
   "source": [
    "#### - The syntax for including a docstring is an indented block surrounded by quotes"
   ]
  },
  {
   "cell_type": "code",
   "execution_count": 9,
   "metadata": {
    "collapsed": false
   },
   "outputs": [
    {
     "name": "stdout",
     "output_type": "stream",
     "text": [
      "x is 12 and y is 4\n"
     ]
    },
    {
     "data": {
      "text/plain": [
       "8"
      ]
     },
     "execution_count": 9,
     "metadata": {},
     "output_type": "execute_result"
    }
   ],
   "source": [
    "def sub(x, y):\n",
    "    \"Return the difference of user define x and y\" #<- the preceding is a docstring\n",
    "    print \"x is {0} and y is {1}\".format(x, y)\n",
    "    return x - y\n",
    "\n",
    "sub(12, 4)"
   ]
  },
  {
   "cell_type": "markdown",
   "metadata": {},
   "source": [
    "#### - The syntax for *args is a list in which superfluous arguments are placed"
   ]
  },
  {
   "cell_type": "code",
   "execution_count": 26,
   "metadata": {
    "collapsed": false
   },
   "outputs": [
    {
     "name": "stdout",
     "output_type": "stream",
     "text": [
      "('apples',)\n",
      "('apples', 'chicke', 'rice')\n"
     ]
    }
   ],
   "source": [
    "def PlayAround(a,b,c):\n",
    "    return a+b*c\n",
    "\n",
    "mytuple=(2,3,5)\n",
    "PlayAround(*mytuple)\n",
    "\n",
    "def mylist(*food):\n",
    "    print food\n",
    "    \n",
    "mylist('apples')\n",
    "mylist('apples','chicke','rice')\n",
    "    "
   ]
  },
  {
   "cell_type": "markdown",
   "metadata": {},
   "source": [
    "#### - The syntax for **kwargs is taking additional arguments and places them in a dictionary with a title of your choosing. This title can be anything as long as it is preceeded by two asterisks (in this example we have **kwargs)"
   ]
  },
  {
   "cell_type": "code",
   "execution_count": 57,
   "metadata": {
    "collapsed": false
   },
   "outputs": [
    {
     "name": "stdout",
     "output_type": "stream",
     "text": [
      "Dad is 100 years old\n",
      "Mom is 90 years old\n",
      "('a', 10)\n",
      "('c', 100)\n",
      "('b', -3)\n"
     ]
    }
   ],
   "source": [
    "def myfamily(**kwargs):\n",
    "    for name, age in kwargs.items():\n",
    "        print '{0} is {1} years old'.format(name, age)\n",
    "\n",
    "myfamily(Dad = 100, Mom = 90)\n",
    "\n",
    "def print_table(**kwargs):\n",
    "    for key, values in kwargs.items():\n",
    "        print(key,values)\n",
    "        \n",
    "print_table(a= 10,b = -3, c = 100)"
   ]
  }
 ],
 "metadata": {
  "kernelspec": {
   "display_name": "Python 2",
   "language": "python",
   "name": "python2"
  },
  "language_info": {
   "codemirror_mode": {
    "name": "ipython",
    "version": 2
   },
   "file_extension": ".py",
   "mimetype": "text/x-python",
   "name": "python",
   "nbconvert_exporter": "python",
   "pygments_lexer": "ipython2",
   "version": "2.7.9"
  },
  "name": "learnpython.ipynb"
 },
 "nbformat": 4,
 "nbformat_minor": 0
}
